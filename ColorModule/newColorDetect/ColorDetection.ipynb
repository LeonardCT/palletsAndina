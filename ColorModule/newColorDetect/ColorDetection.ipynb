{
 "cells": [
  {
   "cell_type": "code",
   "execution_count": 3,
   "id": "7501473f",
   "metadata": {
    "scrolled": true
   },
   "outputs": [
    {
     "name": "stdout",
     "output_type": "stream",
     "text": [
      "Requirement already satisfied: opencv-python in c:\\users\\carlo\\anaconda3\\lib\\site-packages (4.8.0.76)\n",
      "Requirement already satisfied: numpy>=1.19.3 in c:\\users\\carlo\\anaconda3\\lib\\site-packages (from opencv-python) (1.23.5)\n",
      "Note: you may need to restart the kernel to use updated packages.\n"
     ]
    }
   ],
   "source": [
    "pip install opencv-python"
   ]
  },
  {
   "cell_type": "markdown",
   "id": "edc7ab96",
   "metadata": {},
   "source": [
    "### Recibe imagen como parametro e indica el color predominante en este"
   ]
  },
  {
   "cell_type": "code",
   "execution_count": 24,
   "id": "cda57e15",
   "metadata": {},
   "outputs": [],
   "source": [
    "import cv2\n",
    "\n",
    "def classify_and_display_color(image_path):\n",
    "    # Cargar la imagen\n",
    "    frame = cv2.imread(image_path)\n",
    "    \n",
    "    if frame is None:\n",
    "        print(f\"No se pudo cargar la imagen en '{image_path}'. Asegúrate de que la ruta sea correcta.\")\n",
    "        return\n",
    "\n",
    "    # Convertir la imagen a espacio de color HSV\n",
    "    hsv_frame = cv2.cvtColor(frame, cv2.COLOR_BGR2HSV)\n",
    "\n",
    "    # Obtener las dimensiones de la imagen\n",
    "    height, width, _ = frame.shape\n",
    "\n",
    "    # Coordenadas del centro de la imagen\n",
    "    cx = int(width / 2)\n",
    "    cy = int(height / 2)\n",
    "\n",
    "    # Obtener el valor de tono (hue) del píxel central\n",
    "    pixel_center = hsv_frame[cy, cx]\n",
    "    hue_value = pixel_center[0]\n",
    "\n",
    "    # Clasificar el color\n",
    "    color = \"Undefined\"\n",
    "    if 0 <= hue_value < 5 or 170 <= hue_value <= 180:\n",
    "        color = \"RED\"\n",
    "    elif 5 <= hue_value < 22:\n",
    "        color = \"ORANGE\"\n",
    "    elif 22 <= hue_value < 33:\n",
    "        color = \"YELLOW\"\n",
    "    elif 33 <= hue_value < 78:\n",
    "        color = \"GREEN\"\n",
    "    elif 78 <= hue_value < 167:\n",
    "        color = \"BLUE\"\n",
    "\n",
    "\n",
    "    # Mostrar el resultado sobre la imagen\n",
    "    cv2.putText(frame, f\"Color Predominante: {color}\", (10, 50), cv2.FONT_HERSHEY_SIMPLEX, 1, (255, 0, 0), 2)\n",
    "\n",
    "    # Mostrar la imagen\n",
    "    cv2.imshow(\"Imagen con Color Predominante\", frame)\n",
    "    cv2.waitKey(0)\n",
    "    cv2.destroyAllWindows()\n",
    "\n",
    "# Ruta de la imagen que quieres procesar\n",
    "image_path = \"C:/Users/carlo/OneDrive/Escritorio/U/PDI/PDI/proyecto/palletsAndina-main/palletsAndina-main/ColorModule/neww/random.png\"\n",
    "\n",
    "# Llamada a la función con la imagen como parámetro\n",
    "classify_and_display_color(image_path)\n"
   ]
  },
  {
   "cell_type": "markdown",
   "id": "52d23209",
   "metadata": {},
   "source": [
    "## Recibe archivo y entrega el color del pallet y tipo de este (si es o no andina)"
   ]
  },
  {
   "cell_type": "code",
   "execution_count": 2,
   "id": "720b5e74",
   "metadata": {},
   "outputs": [
    {
     "name": "stdout",
     "output_type": "stream",
     "text": [
      "No andina\n"
     ]
    }
   ],
   "source": [
    "import cv2\n",
    "\n",
    "def classify_and_display_color(image_path):\n",
    "    # Cargar la imagen\n",
    "    frame = cv2.imread(image_path)\n",
    "    \n",
    "    if frame is None:\n",
    "        print(f\"No se pudo cargar la imagen en '{image_path}'. Asegúrate de que la ruta sea correcta.\")\n",
    "        return\n",
    "\n",
    "    # Convertir la imagen a espacio de color HSV\n",
    "    hsv_frame = cv2.cvtColor(frame, cv2.COLOR_BGR2HSV)\n",
    "\n",
    "    # Obtener las dimensiones de la imagen\n",
    "    height, width, _ = frame.shape\n",
    "\n",
    "    # Coordenadas del centro de la imagen\n",
    "    cx = int(width / 2)\n",
    "    cy = int(height / 2)\n",
    "\n",
    "    # Obtener el valor de tono (hue) del píxel central\n",
    "    pixel_center = hsv_frame[cy, cx]\n",
    "    hue_value = pixel_center[0]\n",
    "\n",
    "    # Clasificar el color\n",
    "    color = \"Undefined\"\n",
    "    if 0 <= hue_value < 5 or 170 <= hue_value <= 180:\n",
    "        color = \"RED\"\n",
    "    elif 22 <= hue_value < 33:\n",
    "        color = \"YELLOW\"\n",
    "    elif 33 <= hue_value < 78:\n",
    "        color = \"GREEN\"\n",
    "    elif 78 <= hue_value < 167:\n",
    "        color = \"BLUE\"\n",
    "    \n",
    "\n",
    "\n",
    "    # Calcular posición de la etiqueta para que se adapte al tamaño de la imagen\n",
    "    text_size = cv2.getTextSize(f\"C. Dominancia: {color}\", cv2.FONT_HERSHEY_SIMPLEX, 0.7, 2)[0]\n",
    "    text_x = int((width - text_size[0]) / 2)\n",
    "    text_y = height - 10\n",
    "\n",
    "    # Añadir etiqueta debajo de la imagen\n",
    "    cv2.putText(frame, f\"Dominancia: {color}\", (text_x, text_y), cv2.FONT_HERSHEY_SIMPLEX, 0.7, (0, 0, 0), 2)\n",
    "\n",
    "    # Mostrar la imagen\n",
    "    \n",
    "    cv2.imshow(\"color\", frame)\n",
    "    cv2.waitKey(0) \n",
    "    if color==\"BLUE\" or color==\"RED\" or color==\"YELLOW\" or color==\"GREEN\":\n",
    "        print(\"No andina\")\n",
    "    cv2.destroyAllWindows()\n",
    "\n",
    "# Ruta de la imagen que quieres procesar\n",
    "image_path = \"C:/Users/carlo/OneDrive/Escritorio/U/PDI/PDI/proyecto/palletsAndina-main/palletsAndina-main/ColorModule/neww/palletred.png\"\n",
    "\n",
    "# Llamada a la función con la imagen como parámetro\n",
    "classify_and_display_color(image_path)\n"
   ]
  },
  {
   "cell_type": "code",
   "execution_count": null,
   "id": "dd4de8b6",
   "metadata": {},
   "outputs": [],
   "source": []
  },
  {
   "cell_type": "markdown",
   "id": "5b987e25",
   "metadata": {},
   "source": [
    "image_path = \"C:/Users/carlo/OneDrive/Escritorio/U/PDI/PDI/proyecto/palletsAndina-main/palletsAndina-main/ColorModule/neww/random.png\"\n"
   ]
  },
  {
   "cell_type": "code",
   "execution_count": 23,
   "id": "c4cb6b40",
   "metadata": {},
   "outputs": [
    {
     "data": {
      "image/png": "[encoded data removed]",
      "text/plain": [
       "<Figure size 640x480 with 1 Axes>"
      ]
     },
     "metadata": {},
     "output_type": "display_data"
    }
   ],
   "source": [
    "import cv2\n",
    "import numpy as np\n",
    "from matplotlib import pyplot as plt\n",
    "\n",
    "def obtener_color_dominante(imagen):\n",
    "    # Leer la imagen con OpenCV\n",
    "    img = cv2.imread(imagen)\n",
    "\n",
    "    # Convertir la imagen de BGR a RGB (OpenCV utiliza BGR por defecto)\n",
    "    img_rgb = cv2.cvtColor(img, cv2.COLOR_BGR2RGB)\n",
    "\n",
    "    # Aplanar la imagen para trabajar más fácilmente con numpy\n",
    "    pixels = img_rgb.reshape((-1, 3))\n",
    "\n",
    "    # Calcular la frecuencia de cada color\n",
    "    color_frecuencia = np.unique(pixels, axis=0, return_counts=True)[1]\n",
    "\n",
    "    # Calcular el color dominante (el color con mayor frecuencia)\n",
    "    color_dominante = color_frecuencia.argmax()\n",
    "\n",
    "    # Calcular el porcentaje de color dominante en la imagen\n",
    "    porcentaje_dominante = (color_dominante / pixels.shape[0]) * 100\n",
    "\n",
    "    return porcentaje_dominante\n",
    "\n",
    "def mostrar_grafico_pie(porcentaje_dominante):\n",
    "    # Crear un gráfico circular con el porcentaje de color dominante\n",
    "    labels = ['Color Dominante', 'Otros Colores']\n",
    "    sizes = [porcentaje_dominante, 100 - porcentaje_dominante]\n",
    "\n",
    "    fig1, ax1 = plt.subplots()\n",
    "    ax1.pie(sizes, labels=labels, autopct='%1.1f%%', startangle=90, colors=['red', 'lightgrey'])\n",
    "    ax1.axis('equal')  # Equal aspect ratio ensures that pie is drawn as a circle.\n",
    "\n",
    "    plt.title('Porcentaje de Color Dominante en la Imagen')\n",
    "    plt.show()\n",
    "\n",
    "if __name__ == \"__main__\":\n",
    "    image_path = \"C:/Users/carlo/OneDrive/Escritorio/U/PDI/PDI/proyecto/palletsAndina-main/palletsAndina-main/ColorModule/neww/random.png\"\n",
    "    porcentaje_dominante = obtener_color_dominante(image_path)\n",
    "    mostrar_grafico_pie(porcentaje_dominante)\n"
   ]
  },
  {
   "cell_type": "code",
   "execution_count": null,
   "id": "b98604dd",
   "metadata": {},
   "outputs": [],
   "source": [
    "###Modulo de implementacion con camara en tiempo real, util para trabajos a fututo\n",
    "import cv2\n",
    "\n",
    "cap = cv2.VideoCapture(0)\n",
    "\n",
    "cap.set(cv2.CAP_PROP_FRAME_WIDTH, 1280)\n",
    "cap.set(cv2.CAP_PROP_FRAME_WIDTH, 720)\n",
    "\n",
    "\n",
    "while True:\n",
    "    _, frame = cap.read()\n",
    "    hsv_frame=cv2.cvtColor(frame, cv2.COLOR_BGR2HSV)\n",
    "    height, width, _=frame.shape\n",
    "    \n",
    "    cx= int(width/2)\n",
    "    cy= int(height/2)\n",
    "\n",
    "    #VALOR DEL PIXEL Pick Pixel Value \n",
    "    pixel_center= hsv_frame[cy, cx]\n",
    "    hue_value = pixel_center[0]\n",
    "    \n",
    "    color = \"Undefined\"\n",
    "    if hue_value <5:\n",
    "        color = \"RED\"\n",
    "    elif hue_value<22: \n",
    "        color=\"ORANGE\"\n",
    "    elif hue_value<33: \n",
    "        color=\"YELLOW\"\n",
    "    elif hue_value<78: \n",
    "        color=\"GREEN\"\n",
    "    elif hue_value<167:\n",
    "        color =\"BLUE\"\n",
    "    elif hue_value<170:\n",
    "        color =\"VIOLET\"\n",
    "    else: \n",
    "        color=\"BLACK\"\n",
    "    \n",
    "    pixel_center_bgr= frame[cy,cx]\n",
    "    print(pixel_center)\n",
    "    cv2.putText(frame, color, (10,50),0,1,(255,0,0),2)\n",
    "    cv2.circle(frame, (cx,cy),5,(255,0,0),3)\n",
    "    \n",
    "    \n",
    "    frame_rot = cv2.rotate(frame, cv2.ROTATE_90_CLOCKWISE)\n",
    "\n",
    "    \n",
    "    cv2.imshow(\"Frame\", frame_rot)\n",
    "    key= cv2.waitKey(1)\n",
    "    if key == 27:\n",
    "        break\n",
    "        \n",
    "        \n",
    "cap.release()\n",
    "cv2.destroyAllWindows()"
   ]
  }
 ],
 "metadata": {
  "kernelspec": {
   "display_name": "Python 3 (ipykernel)",
   "language": "python",
   "name": "python3"
  },
  "language_info": {
   "codemirror_mode": {
    "name": "ipython",
    "version": 3
   },
   "file_extension": ".py",
   "mimetype": "text/x-python",
   "name": "python",
   "nbconvert_exporter": "python",
   "pygments_lexer": "ipython3",
   "version": "3.11.3"
  }
 },
 "nbformat": 4,
 "nbformat_minor": 5
}
